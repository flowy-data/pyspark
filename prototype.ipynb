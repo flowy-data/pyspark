{
 "cells": [
  {
   "cell_type": "code",
   "execution_count": 2,
   "metadata": {
    "execution": {
     "iopub.execute_input": "2021-01-07T02:39:44.920675Z",
     "iopub.status.busy": "2021-01-07T02:39:44.920181Z",
     "iopub.status.idle": "2021-01-07T02:39:44.968297Z",
     "shell.execute_reply": "2021-01-07T02:39:44.967343Z",
     "shell.execute_reply.started": "2021-01-07T02:39:44.920591Z"
    }
   },
   "outputs": [],
   "source": [
    "from pyspark.sql import SparkSession\n",
    "from pyspark.sql import functions as F\n",
    "from pyspark.sql.types import IntegerType, StringType"
   ]
  },
  {
   "cell_type": "code",
   "execution_count": 3,
   "metadata": {
    "execution": {
     "iopub.execute_input": "2021-01-07T02:39:44.970660Z",
     "iopub.status.busy": "2021-01-07T02:39:44.970292Z",
     "iopub.status.idle": "2021-01-07T02:39:45.338224Z",
     "shell.execute_reply": "2021-01-07T02:39:45.337404Z",
     "shell.execute_reply.started": "2021-01-07T02:39:44.970603Z"
    }
   },
   "outputs": [
    {
     "name": "stdout",
     "output_type": "stream",
     "text": [
      "/usr/local/anaconda3/envs/spark/bin/python\n",
      "\n",
      "\n"
     ]
    }
   ],
   "source": [
    "!which python\n",
    "!echo $PYSPARK_PYTHON \n",
    "!echo $PYSPARK_DRIVER_PYTHON"
   ]
  },
  {
   "cell_type": "code",
   "execution_count": 4,
   "metadata": {
    "execution": {
     "iopub.execute_input": "2021-01-07T02:39:45.340799Z",
     "iopub.status.busy": "2021-01-07T02:39:45.340525Z",
     "iopub.status.idle": "2021-01-07T02:39:49.545598Z",
     "shell.execute_reply": "2021-01-07T02:39:49.544491Z",
     "shell.execute_reply.started": "2021-01-07T02:39:45.340767Z"
    }
   },
   "outputs": [
    {
     "name": "stdout",
     "output_type": "stream",
     "text": [
      "Spark Instance: <pyspark.sql.session.SparkSession object at 0x7fb6a6c80070>\n",
      "RDD count: 4\n"
     ]
    }
   ],
   "source": [
    "spark = SparkSession.builder.appName(\"dataload\").getOrCreate()\n",
    "\n",
    "print(f\"Spark Instance: {spark}\")\n",
    "rdd = spark.sparkContext.parallelize([1,2,3,4])\n",
    "print(f\"RDD count: {rdd.count()}\")"
   ]
  },
  {
   "cell_type": "code",
   "execution_count": 5,
   "metadata": {
    "execution": {
     "iopub.execute_input": "2021-01-07T02:39:49.547925Z",
     "iopub.status.busy": "2021-01-07T02:39:49.547555Z",
     "iopub.status.idle": "2021-01-07T02:39:52.422093Z",
     "shell.execute_reply": "2021-01-07T02:39:52.421254Z",
     "shell.execute_reply.started": "2021-01-07T02:39:49.547890Z"
    }
   },
   "outputs": [
    {
     "name": "stdout",
     "output_type": "stream",
     "text": [
      "load a csv:\n"
     ]
    }
   ],
   "source": [
    "\n",
    "print(\"load a csv:\")\n",
    "df = spark.read.csv('../sample_data/ramen-ratings.csv', header=True, inferSchema=True)"
   ]
  },
  {
   "cell_type": "code",
   "execution_count": 6,
   "metadata": {
    "execution": {
     "iopub.execute_input": "2021-01-07T02:39:52.423518Z",
     "iopub.status.busy": "2021-01-07T02:39:52.423205Z",
     "iopub.status.idle": "2021-01-07T02:39:52.435025Z",
     "shell.execute_reply": "2021-01-07T02:39:52.433663Z",
     "shell.execute_reply.started": "2021-01-07T02:39:52.423492Z"
    }
   },
   "outputs": [
    {
     "name": "stdout",
     "output_type": "stream",
     "text": [
      "root\n",
      " |-- Review #: string (nullable = true)\n",
      " |-- Brand: string (nullable = true)\n",
      " |-- Variety: string (nullable = true)\n",
      " |-- Style: string (nullable = true)\n",
      " |-- Country: string (nullable = true)\n",
      " |-- Stars: string (nullable = true)\n",
      " |-- Top Ten: string (nullable = true)\n",
      "\n"
     ]
    }
   ],
   "source": [
    "df.printSchema()"
   ]
  },
  {
   "cell_type": "code",
   "execution_count": 7,
   "metadata": {
    "execution": {
     "iopub.execute_input": "2021-01-07T02:39:52.437460Z",
     "iopub.status.busy": "2021-01-07T02:39:52.437030Z",
     "iopub.status.idle": "2021-01-07T02:39:52.653554Z",
     "shell.execute_reply": "2021-01-07T02:39:52.652577Z",
     "shell.execute_reply.started": "2021-01-07T02:39:52.437402Z"
    }
   },
   "outputs": [
    {
     "name": "stdout",
     "output_type": "stream",
     "text": [
      "+--------+--------------+--------------------+-----+-------+-----+-------+\n",
      "|Review #|         Brand|             Variety|Style|Country|Stars|Top Ten|\n",
      "+--------+--------------+--------------------+-----+-------+-----+-------+\n",
      "|    2580|     New Touch|T's Restaurant Ta...|  Cup|  Japan| 3.75|   null|\n",
      "|    2579|      Just Way|Noodles Spicy Hot...| Pack| Taiwan|    1|   null|\n",
      "|    2578|        Nissin|Cup Noodles Chick...|  Cup|    USA| 2.25|   null|\n",
      "|    2577|       Wei Lih|GGE Ramen Snack T...| Pack| Taiwan| 2.75|   null|\n",
      "|    2576|Ching's Secret|     Singapore Curry| Pack|  India| 3.75|   null|\n",
      "+--------+--------------+--------------------+-----+-------+-----+-------+\n",
      "only showing top 5 rows\n",
      "\n"
     ]
    }
   ],
   "source": [
    "df.show(5)"
   ]
  },
  {
   "cell_type": "code",
   "execution_count": 8,
   "metadata": {
    "execution": {
     "iopub.execute_input": "2021-01-07T02:39:52.657812Z",
     "iopub.status.busy": "2021-01-07T02:39:52.655264Z",
     "iopub.status.idle": "2021-01-07T02:39:53.048243Z",
     "shell.execute_reply": "2021-01-07T02:39:53.047189Z",
     "shell.execute_reply.started": "2021-01-07T02:39:52.657757Z"
    }
   },
   "outputs": [
    {
     "name": "stdout",
     "output_type": "stream",
     "text": [
      "Row count: 2584\n"
     ]
    }
   ],
   "source": [
    "print(f\"Row count: {df.count()}\")"
   ]
  },
  {
   "cell_type": "code",
   "execution_count": 10,
   "metadata": {
    "execution": {
     "iopub.execute_input": "2021-01-07T02:40:11.212434Z",
     "iopub.status.busy": "2021-01-07T02:40:11.212085Z",
     "iopub.status.idle": "2021-01-07T02:40:11.237120Z",
     "shell.execute_reply": "2021-01-07T02:40:11.235904Z",
     "shell.execute_reply.started": "2021-01-07T02:40:11.212395Z"
    }
   },
   "outputs": [
    {
     "name": "stdout",
     "output_type": "stream",
     "text": [
      "Check the df schema after changing the data type\n",
      "root\n",
      " |-- Review #: string (nullable = true)\n",
      " |-- Brand: string (nullable = true)\n",
      " |-- Variety: string (nullable = true)\n",
      " |-- Style: string (nullable = true)\n",
      " |-- Country: string (nullable = true)\n",
      " |-- Stars: integer (nullable = true)\n",
      " |-- Top Ten: string (nullable = true)\n",
      "\n"
     ]
    }
   ],
   "source": [
    "print(\"Check the df schema after changing the data type\")\n",
    "df = df.withColumn('Stars', F.col(\"Stars\").cast(IntegerType()))\n",
    "df.printSchema()"
   ]
  },
  {
   "cell_type": "code",
   "execution_count": null,
   "metadata": {},
   "outputs": [],
   "source": []
  },
  {
   "cell_type": "code",
   "execution_count": null,
   "metadata": {},
   "outputs": [],
   "source": []
  }
 ],
 "metadata": {
  "kernelspec": {
   "display_name": "Python 3",
   "language": "python",
   "name": "python3"
  },
  "language_info": {
   "codemirror_mode": {
    "name": "ipython",
    "version": 3
   },
   "file_extension": ".py",
   "mimetype": "text/x-python",
   "name": "python",
   "nbconvert_exporter": "python",
   "pygments_lexer": "ipython3",
   "version": "3.8.6"
  }
 },
 "nbformat": 4,
 "nbformat_minor": 4
}
