{
 "cells": [
  {
   "cell_type": "markdown",
   "metadata": {},
   "source": [
    "Following this tutorial and modifying some parts: https://www.datacamp.com/community/tutorials/apache-spark-tutorial-machine-learning"
   ]
  },
  {
   "cell_type": "code",
   "execution_count": 40,
   "metadata": {
    "execution": {
     "iopub.execute_input": "2021-01-07T08:59:59.165161Z",
     "iopub.status.busy": "2021-01-07T08:59:59.164810Z",
     "iopub.status.idle": "2021-01-07T08:59:59.170330Z",
     "shell.execute_reply": "2021-01-07T08:59:59.169372Z",
     "shell.execute_reply.started": "2021-01-07T08:59:59.165114Z"
    }
   },
   "outputs": [],
   "source": [
    "from pyspark.sql import SparkSession\n",
    "from pyspark.sql.functions import *"
   ]
  },
  {
   "cell_type": "code",
   "execution_count": 41,
   "metadata": {
    "execution": {
     "iopub.execute_input": "2021-01-07T08:59:59.172713Z",
     "iopub.status.busy": "2021-01-07T08:59:59.172407Z",
     "iopub.status.idle": "2021-01-07T08:59:59.182224Z",
     "shell.execute_reply": "2021-01-07T08:59:59.181233Z",
     "shell.execute_reply.started": "2021-01-07T08:59:59.172680Z"
    }
   },
   "outputs": [],
   "source": [
    "# Build the SparkSession\n",
    "spark = SparkSession.builder \\\n",
    "   .master(\"local\") \\\n",
    "   .appName(\"Linear Regression Model\") \\\n",
    "   .config(\"spark.executor.memory\", \"1gb\") \\\n",
    "   .getOrCreate()\n",
    "\n",
    "sc = spark.sparkContext\n"
   ]
  },
  {
   "cell_type": "markdown",
   "metadata": {},
   "source": [
    "Download the Data here: https://www.kaggle.com/camnugent/california-housing-prices"
   ]
  },
  {
   "cell_type": "code",
   "execution_count": 42,
   "metadata": {
    "execution": {
     "iopub.execute_input": "2021-01-07T08:59:59.186284Z",
     "iopub.status.busy": "2021-01-07T08:59:59.185963Z",
     "iopub.status.idle": "2021-01-07T08:59:59.770039Z",
     "shell.execute_reply": "2021-01-07T08:59:59.768901Z",
     "shell.execute_reply.started": "2021-01-07T08:59:59.186249Z"
    }
   },
   "outputs": [],
   "source": [
    "df = spark.read.format('com.databricks.spark.csv').\\\n",
    "                               options(header='true', \\\n",
    "                               inferschema='true').\\\n",
    "                load(\"./sample_data/housing.csv\",header=True)\n"
   ]
  },
  {
   "cell_type": "code",
   "execution_count": 43,
   "metadata": {
    "execution": {
     "iopub.execute_input": "2021-01-07T08:59:59.773055Z",
     "iopub.status.busy": "2021-01-07T08:59:59.772515Z",
     "iopub.status.idle": "2021-01-07T08:59:59.941557Z",
     "shell.execute_reply": "2021-01-07T08:59:59.940040Z",
     "shell.execute_reply.started": "2021-01-07T08:59:59.772973Z"
    }
   },
   "outputs": [
    {
     "name": "stdout",
     "output_type": "stream",
     "text": [
      "+---------+--------+------------------+-----------+--------------+----------+----------+-------------+------------------+---------------+\n",
      "|longitude|latitude|housing_median_age|total_rooms|total_bedrooms|population|households|median_income|median_house_value|ocean_proximity|\n",
      "+---------+--------+------------------+-----------+--------------+----------+----------+-------------+------------------+---------------+\n",
      "|  -122.23|   37.88|              41.0|      880.0|         129.0|     322.0|     126.0|       8.3252|          452600.0|       NEAR BAY|\n",
      "|  -122.22|   37.86|              21.0|     7099.0|        1106.0|    2401.0|    1138.0|       8.3014|          358500.0|       NEAR BAY|\n",
      "|  -122.24|   37.85|              52.0|     1467.0|         190.0|     496.0|     177.0|       7.2574|          352100.0|       NEAR BAY|\n",
      "|  -122.25|   37.85|              52.0|     1274.0|         235.0|     558.0|     219.0|       5.6431|          341300.0|       NEAR BAY|\n",
      "|  -122.25|   37.85|              52.0|     1627.0|         280.0|     565.0|     259.0|       3.8462|          342200.0|       NEAR BAY|\n",
      "|  -122.25|   37.85|              52.0|      919.0|         213.0|     413.0|     193.0|       4.0368|          269700.0|       NEAR BAY|\n",
      "|  -122.25|   37.84|              52.0|     2535.0|         489.0|    1094.0|     514.0|       3.6591|          299200.0|       NEAR BAY|\n",
      "|  -122.25|   37.84|              52.0|     3104.0|         687.0|    1157.0|     647.0|         3.12|          241400.0|       NEAR BAY|\n",
      "|  -122.26|   37.84|              42.0|     2555.0|         665.0|    1206.0|     595.0|       2.0804|          226700.0|       NEAR BAY|\n",
      "|  -122.25|   37.84|              52.0|     3549.0|         707.0|    1551.0|     714.0|       3.6912|          261100.0|       NEAR BAY|\n",
      "|  -122.26|   37.85|              52.0|     2202.0|         434.0|     910.0|     402.0|       3.2031|          281500.0|       NEAR BAY|\n",
      "|  -122.26|   37.85|              52.0|     3503.0|         752.0|    1504.0|     734.0|       3.2705|          241800.0|       NEAR BAY|\n",
      "|  -122.26|   37.85|              52.0|     2491.0|         474.0|    1098.0|     468.0|        3.075|          213500.0|       NEAR BAY|\n",
      "|  -122.26|   37.84|              52.0|      696.0|         191.0|     345.0|     174.0|       2.6736|          191300.0|       NEAR BAY|\n",
      "|  -122.26|   37.85|              52.0|     2643.0|         626.0|    1212.0|     620.0|       1.9167|          159200.0|       NEAR BAY|\n",
      "|  -122.26|   37.85|              50.0|     1120.0|         283.0|     697.0|     264.0|        2.125|          140000.0|       NEAR BAY|\n",
      "|  -122.27|   37.85|              52.0|     1966.0|         347.0|     793.0|     331.0|        2.775|          152500.0|       NEAR BAY|\n",
      "|  -122.27|   37.85|              52.0|     1228.0|         293.0|     648.0|     303.0|       2.1202|          155500.0|       NEAR BAY|\n",
      "|  -122.26|   37.84|              50.0|     2239.0|         455.0|     990.0|     419.0|       1.9911|          158700.0|       NEAR BAY|\n",
      "|  -122.27|   37.84|              52.0|     1503.0|         298.0|     690.0|     275.0|       2.6033|          162900.0|       NEAR BAY|\n",
      "+---------+--------+------------------+-----------+--------------+----------+----------+-------------+------------------+---------------+\n",
      "only showing top 20 rows\n",
      "\n"
     ]
    }
   ],
   "source": [
    "df.show()"
   ]
  },
  {
   "cell_type": "code",
   "execution_count": 44,
   "metadata": {
    "execution": {
     "iopub.execute_input": "2021-01-07T08:59:59.944181Z",
     "iopub.status.busy": "2021-01-07T08:59:59.943529Z",
     "iopub.status.idle": "2021-01-07T08:59:59.960909Z",
     "shell.execute_reply": "2021-01-07T08:59:59.959469Z",
     "shell.execute_reply.started": "2021-01-07T08:59:59.944116Z"
    }
   },
   "outputs": [
    {
     "name": "stdout",
     "output_type": "stream",
     "text": [
      "schema:\n",
      "root\n",
      " |-- longitude: double (nullable = true)\n",
      " |-- latitude: double (nullable = true)\n",
      " |-- housing_median_age: double (nullable = true)\n",
      " |-- total_rooms: double (nullable = true)\n",
      " |-- total_bedrooms: double (nullable = true)\n",
      " |-- population: double (nullable = true)\n",
      " |-- households: double (nullable = true)\n",
      " |-- median_income: double (nullable = true)\n",
      " |-- median_house_value: double (nullable = true)\n",
      " |-- ocean_proximity: string (nullable = true)\n",
      "\n",
      "Data type: <class 'pyspark.sql.dataframe.DataFrame'>\n"
     ]
    }
   ],
   "source": [
    "print(\"schema:\")\n",
    "df.printSchema()\n",
    "print(f\"Data type: {type(df)}\")"
   ]
  },
  {
   "cell_type": "code",
   "execution_count": 45,
   "metadata": {
    "execution": {
     "iopub.execute_input": "2021-01-07T08:59:59.963629Z",
     "iopub.status.busy": "2021-01-07T08:59:59.963066Z",
     "iopub.status.idle": "2021-01-07T09:00:01.709204Z",
     "shell.execute_reply": "2021-01-07T09:00:01.707952Z",
     "shell.execute_reply.started": "2021-01-07T08:59:59.963573Z"
    }
   },
   "outputs": [
    {
     "name": "stdout",
     "output_type": "stream",
     "text": [
      "+-------+-------------------+-----------------+------------------+------------------+------------------+------------------+-----------------+------------------+------------------+---------------+\n",
      "|summary|          longitude|         latitude|housing_median_age|       total_rooms|    total_bedrooms|        population|       households|     median_income|median_house_value|ocean_proximity|\n",
      "+-------+-------------------+-----------------+------------------+------------------+------------------+------------------+-----------------+------------------+------------------+---------------+\n",
      "|  count|              20640|            20640|             20640|             20640|             20433|             20640|            20640|             20640|             20640|          20640|\n",
      "|   mean|-119.56970445736148| 35.6318614341087|28.639486434108527|2635.7630813953488| 537.8705525375618|1425.4767441860465|499.5396802325581|3.8706710029070246|206855.81690891474|           null|\n",
      "| stddev|  2.003531723502584|2.135952397457101| 12.58555761211163|2181.6152515827944|421.38507007403115|  1132.46212176534|382.3297528316098| 1.899821717945263|115395.61587441359|           null|\n",
      "|    min|            -124.35|            32.54|               1.0|               2.0|               1.0|               3.0|              1.0|            0.4999|           14999.0|      <1H OCEAN|\n",
      "|    max|            -114.31|            41.95|              52.0|           39320.0|            6445.0|           35682.0|           6082.0|           15.0001|          500001.0|     NEAR OCEAN|\n",
      "+-------+-------------------+-----------------+------------------+------------------+------------------+------------------+-----------------+------------------+------------------+---------------+\n",
      "\n"
     ]
    }
   ],
   "source": [
    "df.describe().show()"
   ]
  },
  {
   "cell_type": "code",
   "execution_count": 46,
   "metadata": {
    "execution": {
     "iopub.execute_input": "2021-01-07T09:00:01.714918Z",
     "iopub.status.busy": "2021-01-07T09:00:01.714404Z",
     "iopub.status.idle": "2021-01-07T09:00:03.457516Z",
     "shell.execute_reply": "2021-01-07T09:00:03.456146Z",
     "shell.execute_reply.started": "2021-01-07T09:00:01.714840Z"
    }
   },
   "outputs": [
    {
     "name": "stdout",
     "output_type": "stream",
     "text": [
      "+---------------+-----+\n",
      "|ocean_proximity|count|\n",
      "+---------------+-----+\n",
      "|      <1H OCEAN| 9136|\n",
      "|         INLAND| 6551|\n",
      "|     NEAR OCEAN| 2658|\n",
      "|       NEAR BAY| 2290|\n",
      "|         ISLAND|    5|\n",
      "+---------------+-----+\n",
      "\n"
     ]
    }
   ],
   "source": [
    "df.groupby('ocean_proximity').count().sort('count', ascending=False).show()"
   ]
  },
  {
   "cell_type": "code",
   "execution_count": 47,
   "metadata": {
    "execution": {
     "iopub.execute_input": "2021-01-07T09:00:03.461253Z",
     "iopub.status.busy": "2021-01-07T09:00:03.460880Z",
     "iopub.status.idle": "2021-01-07T09:00:05.666223Z",
     "shell.execute_reply": "2021-01-07T09:00:05.664746Z",
     "shell.execute_reply.started": "2021-01-07T09:00:03.461208Z"
    }
   },
   "outputs": [
    {
     "name": "stdout",
     "output_type": "stream",
     "text": [
      "+------------------+-----+\n",
      "|housing_median_age|count|\n",
      "+------------------+-----+\n",
      "|              52.0| 1273|\n",
      "|              51.0|   48|\n",
      "|              50.0|  136|\n",
      "|              49.0|  134|\n",
      "|              48.0|  177|\n",
      "|              47.0|  198|\n",
      "|              46.0|  245|\n",
      "|              45.0|  294|\n",
      "|              44.0|  356|\n",
      "|              43.0|  353|\n",
      "|              42.0|  368|\n",
      "|              41.0|  296|\n",
      "|              40.0|  304|\n",
      "|              39.0|  369|\n",
      "|              38.0|  394|\n",
      "|              37.0|  537|\n",
      "|              36.0|  862|\n",
      "|              35.0|  824|\n",
      "|              34.0|  689|\n",
      "|              33.0|  615|\n",
      "+------------------+-----+\n",
      "only showing top 20 rows\n",
      "\n"
     ]
    }
   ],
   "source": [
    "df.groupBy(\"housing_median_age\").count().sort(\"housing_median_age\",ascending=False).show()"
   ]
  },
  {
   "cell_type": "markdown",
   "metadata": {},
   "source": [
    "Add some features"
   ]
  },
  {
   "cell_type": "code",
   "execution_count": 48,
   "metadata": {
    "execution": {
     "iopub.execute_input": "2021-01-07T09:00:05.668594Z",
     "iopub.status.busy": "2021-01-07T09:00:05.668259Z",
     "iopub.status.idle": "2021-01-07T09:00:05.720482Z",
     "shell.execute_reply": "2021-01-07T09:00:05.716662Z",
     "shell.execute_reply.started": "2021-01-07T09:00:05.668551Z"
    }
   },
   "outputs": [],
   "source": [
    "rooms_per_house = df.select(col(\"total_rooms\")/col(\"households\"))\n",
    "pop_per_house = df.select(col(\"population\")/col(\"households\"))\n",
    "bedrooms_per_house = df.select(col(\"total_bedrooms\")/col(\"total_rooms\"))"
   ]
  },
  {
   "cell_type": "code",
   "execution_count": 49,
   "metadata": {
    "execution": {
     "iopub.execute_input": "2021-01-07T09:00:05.732043Z",
     "iopub.status.busy": "2021-01-07T09:00:05.729382Z",
     "iopub.status.idle": "2021-01-07T09:00:05.798438Z",
     "shell.execute_reply": "2021-01-07T09:00:05.796922Z",
     "shell.execute_reply.started": "2021-01-07T09:00:05.731944Z"
    }
   },
   "outputs": [],
   "source": [
    "# Add the new columns to `df`\n",
    "df = df.withColumn(\"rooms_per_house\", col(\"total_rooms\")/col(\"households\")) \\\n",
    "   .withColumn(\"pop_per_house\", col(\"population\")/col(\"households\")) \\\n",
    "   .withColumn(\"bedrooms_per_house\", col(\"total_bedrooms\")/col(\"total_rooms\"))"
   ]
  },
  {
   "cell_type": "code",
   "execution_count": 50,
   "metadata": {
    "execution": {
     "iopub.execute_input": "2021-01-07T09:00:05.802027Z",
     "iopub.status.busy": "2021-01-07T09:00:05.801516Z",
     "iopub.status.idle": "2021-01-07T09:00:05.977219Z",
     "shell.execute_reply": "2021-01-07T09:00:05.976161Z",
     "shell.execute_reply.started": "2021-01-07T09:00:05.801957Z"
    }
   },
   "outputs": [
    {
     "name": "stdout",
     "output_type": "stream",
     "text": [
      "+---------+--------+------------------+-----------+--------------+----------+----------+-------------+------------------+---------------+------------------+------------------+-------------------+\n",
      "|longitude|latitude|housing_median_age|total_rooms|total_bedrooms|population|households|median_income|median_house_value|ocean_proximity|   rooms_per_house|     pop_per_house| bedrooms_per_house|\n",
      "+---------+--------+------------------+-----------+--------------+----------+----------+-------------+------------------+---------------+------------------+------------------+-------------------+\n",
      "|  -122.23|   37.88|              41.0|      880.0|         129.0|     322.0|     126.0|       8.3252|          452600.0|       NEAR BAY| 6.984126984126984|2.5555555555555554|0.14659090909090908|\n",
      "|  -122.22|   37.86|              21.0|     7099.0|        1106.0|    2401.0|    1138.0|       8.3014|          358500.0|       NEAR BAY| 6.238137082601054| 2.109841827768014|0.15579659106916466|\n",
      "|  -122.24|   37.85|              52.0|     1467.0|         190.0|     496.0|     177.0|       7.2574|          352100.0|       NEAR BAY| 8.288135593220339|2.8022598870056497|0.12951601908657123|\n",
      "|  -122.25|   37.85|              52.0|     1274.0|         235.0|     558.0|     219.0|       5.6431|          341300.0|       NEAR BAY|5.8173515981735155| 2.547945205479452|0.18445839874411302|\n",
      "|  -122.25|   37.85|              52.0|     1627.0|         280.0|     565.0|     259.0|       3.8462|          342200.0|       NEAR BAY| 6.281853281853282|2.1814671814671813| 0.1720958819913952|\n",
      "+---------+--------+------------------+-----------+--------------+----------+----------+-------------+------------------+---------------+------------------+------------------+-------------------+\n",
      "only showing top 5 rows\n",
      "\n"
     ]
    }
   ],
   "source": [
    "df.show(5)\n"
   ]
  },
  {
   "cell_type": "code",
   "execution_count": 51,
   "metadata": {
    "execution": {
     "iopub.execute_input": "2021-01-07T09:00:05.979711Z",
     "iopub.status.busy": "2021-01-07T09:00:05.979177Z",
     "iopub.status.idle": "2021-01-07T09:00:06.000823Z",
     "shell.execute_reply": "2021-01-07T09:00:05.999459Z",
     "shell.execute_reply.started": "2021-01-07T09:00:05.979661Z"
    }
   },
   "outputs": [],
   "source": [
    "columns_to_drop = ['longitude', 'latitude', 'total_rooms', 'housing_median_age', 'ocean_proximity']\n",
    "\n",
    "df = df.drop(*columns_to_drop)"
   ]
  },
  {
   "cell_type": "code",
   "execution_count": 52,
   "metadata": {
    "execution": {
     "iopub.execute_input": "2021-01-07T09:00:06.004008Z",
     "iopub.status.busy": "2021-01-07T09:00:06.003381Z",
     "iopub.status.idle": "2021-01-07T09:00:06.204319Z",
     "shell.execute_reply": "2021-01-07T09:00:06.203014Z",
     "shell.execute_reply.started": "2021-01-07T09:00:06.003949Z"
    }
   },
   "outputs": [
    {
     "name": "stdout",
     "output_type": "stream",
     "text": [
      "+--------------+----------+----------+-------------+------------------+------------------+------------------+-------------------+\n",
      "|total_bedrooms|population|households|median_income|median_house_value|   rooms_per_house|     pop_per_house| bedrooms_per_house|\n",
      "+--------------+----------+----------+-------------+------------------+------------------+------------------+-------------------+\n",
      "|         129.0|     322.0|     126.0|       8.3252|          452600.0| 6.984126984126984|2.5555555555555554|0.14659090909090908|\n",
      "|        1106.0|    2401.0|    1138.0|       8.3014|          358500.0| 6.238137082601054| 2.109841827768014|0.15579659106916466|\n",
      "|         190.0|     496.0|     177.0|       7.2574|          352100.0| 8.288135593220339|2.8022598870056497|0.12951601908657123|\n",
      "|         235.0|     558.0|     219.0|       5.6431|          341300.0|5.8173515981735155| 2.547945205479452|0.18445839874411302|\n",
      "|         280.0|     565.0|     259.0|       3.8462|          342200.0| 6.281853281853282|2.1814671814671813| 0.1720958819913952|\n",
      "+--------------+----------+----------+-------------+------------------+------------------+------------------+-------------------+\n",
      "only showing top 5 rows\n",
      "\n"
     ]
    }
   ],
   "source": [
    "df.show(5)"
   ]
  },
  {
   "cell_type": "markdown",
   "metadata": {},
   "source": [
    "Scale Down the House Values "
   ]
  },
  {
   "cell_type": "code",
   "execution_count": 53,
   "metadata": {
    "execution": {
     "iopub.execute_input": "2021-01-07T09:00:06.207797Z",
     "iopub.status.busy": "2021-01-07T09:00:06.207220Z",
     "iopub.status.idle": "2021-01-07T09:00:06.251868Z",
     "shell.execute_reply": "2021-01-07T09:00:06.250437Z",
     "shell.execute_reply.started": "2021-01-07T09:00:06.207730Z"
    }
   },
   "outputs": [],
   "source": [
    "df = df.withColumn(\"median_house_value\", col(\"median_house_value\")/100000)"
   ]
  },
  {
   "cell_type": "code",
   "execution_count": 54,
   "metadata": {
    "execution": {
     "iopub.execute_input": "2021-01-07T09:00:06.254649Z",
     "iopub.status.busy": "2021-01-07T09:00:06.254033Z",
     "iopub.status.idle": "2021-01-07T09:00:06.467778Z",
     "shell.execute_reply": "2021-01-07T09:00:06.466156Z",
     "shell.execute_reply.started": "2021-01-07T09:00:06.254586Z"
    }
   },
   "outputs": [
    {
     "name": "stdout",
     "output_type": "stream",
     "text": [
      "+--------------+----------+----------+-------------+------------------+------------------+------------------+-------------------+\n",
      "|total_bedrooms|population|households|median_income|median_house_value|   rooms_per_house|     pop_per_house| bedrooms_per_house|\n",
      "+--------------+----------+----------+-------------+------------------+------------------+------------------+-------------------+\n",
      "|         129.0|     322.0|     126.0|       8.3252|             4.526| 6.984126984126984|2.5555555555555554|0.14659090909090908|\n",
      "|        1106.0|    2401.0|    1138.0|       8.3014|             3.585| 6.238137082601054| 2.109841827768014|0.15579659106916466|\n",
      "|         190.0|     496.0|     177.0|       7.2574|             3.521| 8.288135593220339|2.8022598870056497|0.12951601908657123|\n",
      "|         235.0|     558.0|     219.0|       5.6431|             3.413|5.8173515981735155| 2.547945205479452|0.18445839874411302|\n",
      "|         280.0|     565.0|     259.0|       3.8462|             3.422| 6.281853281853282|2.1814671814671813| 0.1720958819913952|\n",
      "+--------------+----------+----------+-------------+------------------+------------------+------------------+-------------------+\n",
      "only showing top 5 rows\n",
      "\n"
     ]
    }
   ],
   "source": [
    "df.show(5)"
   ]
  },
  {
   "cell_type": "code",
   "execution_count": 55,
   "metadata": {
    "execution": {
     "iopub.execute_input": "2021-01-07T09:00:06.470583Z",
     "iopub.status.busy": "2021-01-07T09:00:06.470126Z",
     "iopub.status.idle": "2021-01-07T09:00:06.714502Z",
     "shell.execute_reply": "2021-01-07T09:00:06.713228Z",
     "shell.execute_reply.started": "2021-01-07T09:00:06.470524Z"
    }
   },
   "outputs": [],
   "source": [
    "# Import `DenseVector`\n",
    "from pyspark.ml.linalg import DenseVector\n",
    "\n",
    "# Define the `input_data` \n",
    "input_data = df.rdd.map(lambda x: (x[0], DenseVector(x[1:])))\n",
    "\n",
    "# Replace `df` with the new DataFrame\n",
    "df = spark.createDataFrame(input_data, [\"label\", \"features\"])"
   ]
  },
  {
   "cell_type": "code",
   "execution_count": 56,
   "metadata": {
    "execution": {
     "iopub.execute_input": "2021-01-07T09:00:06.717641Z",
     "iopub.status.busy": "2021-01-07T09:00:06.717100Z",
     "iopub.status.idle": "2021-01-07T09:00:07.291722Z",
     "shell.execute_reply": "2021-01-07T09:00:07.290097Z",
     "shell.execute_reply.started": "2021-01-07T09:00:06.717578Z"
    }
   },
   "outputs": [
    {
     "name": "stdout",
     "output_type": "stream",
     "text": [
      "+------+--------------------+\n",
      "| label|            features|\n",
      "+------+--------------------+\n",
      "| 129.0|[322.0,126.0,8.32...|\n",
      "|1106.0|[2401.0,1138.0,8....|\n",
      "| 190.0|[496.0,177.0,7.25...|\n",
      "| 235.0|[558.0,219.0,5.64...|\n",
      "| 280.0|[565.0,259.0,3.84...|\n",
      "| 213.0|[413.0,193.0,4.03...|\n",
      "| 489.0|[1094.0,514.0,3.6...|\n",
      "| 687.0|[1157.0,647.0,3.1...|\n",
      "| 665.0|[1206.0,595.0,2.0...|\n",
      "| 707.0|[1551.0,714.0,3.6...|\n",
      "| 434.0|[910.0,402.0,3.20...|\n",
      "| 752.0|[1504.0,734.0,3.2...|\n",
      "| 474.0|[1098.0,468.0,3.0...|\n",
      "| 191.0|[345.0,174.0,2.67...|\n",
      "| 626.0|[1212.0,620.0,1.9...|\n",
      "| 283.0|[697.0,264.0,2.12...|\n",
      "| 347.0|[793.0,331.0,2.77...|\n",
      "| 293.0|[648.0,303.0,2.12...|\n",
      "| 455.0|[990.0,419.0,1.99...|\n",
      "| 298.0|[690.0,275.0,2.60...|\n",
      "+------+--------------------+\n",
      "only showing top 20 rows\n",
      "\n"
     ]
    }
   ],
   "source": [
    "df.show()"
   ]
  },
  {
   "cell_type": "code",
   "execution_count": 57,
   "metadata": {
    "execution": {
     "iopub.execute_input": "2021-01-07T09:00:07.302096Z",
     "iopub.status.busy": "2021-01-07T09:00:07.301257Z",
     "iopub.status.idle": "2021-01-07T09:00:08.721600Z",
     "shell.execute_reply": "2021-01-07T09:00:08.719808Z",
     "shell.execute_reply.started": "2021-01-07T09:00:07.302003Z"
    }
   },
   "outputs": [
    {
     "data": {
      "text/plain": [
       "[Row(label=129.0, features=DenseVector([322.0, 126.0, 8.3252, 4.526, 6.9841, 2.5556, 0.1466]), features_scaled=DenseVector([0.2843, 0.3296, 4.3821, 3.9222, 2.8228, 0.2461, nan])),\n",
       " Row(label=1106.0, features=DenseVector([2401.0, 1138.0, 8.3014, 3.585, 6.2381, 2.1098, 0.1558]), features_scaled=DenseVector([2.1202, 2.9765, 4.3696, 3.1067, 2.5213, 0.2031, nan]))]"
      ]
     },
     "execution_count": 57,
     "metadata": {},
     "output_type": "execute_result"
    }
   ],
   "source": [
    "# Import `StandardScaler` \n",
    "from pyspark.ml.feature import StandardScaler\n",
    "\n",
    "# Initialize the `standardScaler`\n",
    "standardScaler = StandardScaler(inputCol=\"features\", outputCol=\"features_scaled\")\n",
    "\n",
    "# Fit the DataFrame to the scaler\n",
    "scaler = standardScaler.fit(df)\n",
    "\n",
    "# Transform the data in `df` with the scaler\n",
    "scaled_df = scaler.transform(df)\n",
    "\n",
    "# Inspect the result\n",
    "scaled_df.take(2)"
   ]
  },
  {
   "cell_type": "code",
   "execution_count": 58,
   "metadata": {
    "execution": {
     "iopub.execute_input": "2021-01-07T09:00:08.726713Z",
     "iopub.status.busy": "2021-01-07T09:00:08.726105Z",
     "iopub.status.idle": "2021-01-07T09:00:08.773609Z",
     "shell.execute_reply": "2021-01-07T09:00:08.771989Z",
     "shell.execute_reply.started": "2021-01-07T09:00:08.726627Z"
    }
   },
   "outputs": [],
   "source": [
    "# Split the data into train and test sets\n",
    "train_data, test_data = scaled_df.randomSplit([.8,.2],seed=1234)"
   ]
  },
  {
   "cell_type": "code",
   "execution_count": 60,
   "metadata": {
    "execution": {
     "iopub.execute_input": "2021-01-07T09:43:44.996231Z",
     "iopub.status.busy": "2021-01-07T09:43:44.991767Z",
     "iopub.status.idle": "2021-01-07T09:43:45.169854Z",
     "shell.execute_reply": "2021-01-07T09:43:45.168859Z",
     "shell.execute_reply.started": "2021-01-07T09:43:44.996139Z"
    }
   },
   "outputs": [],
   "source": [
    "# need to fix this.\n",
    "\n",
    "# Import `LinearRegression`\n",
    "from pyspark.ml.regression import LinearRegression\n",
    "\n",
    "# Initialize `lr`\n",
    "lr = LinearRegression(labelCol=\"label\", maxIter=10, regParam=0.3, elasticNetParam=0.8)\n",
    "\n",
    "# Fit the data to the model\n",
    "# linearModel = lr.fit(train_data)"
   ]
  },
  {
   "cell_type": "code",
   "execution_count": null,
   "metadata": {},
   "outputs": [],
   "source": []
  }
 ],
 "metadata": {
  "kernelspec": {
   "display_name": "Python 3",
   "language": "python",
   "name": "python3"
  },
  "language_info": {
   "codemirror_mode": {
    "name": "ipython",
    "version": 3
   },
   "file_extension": ".py",
   "mimetype": "text/x-python",
   "name": "python",
   "nbconvert_exporter": "python",
   "pygments_lexer": "ipython3",
   "version": "3.8.6"
  }
 },
 "nbformat": 4,
 "nbformat_minor": 4
}
