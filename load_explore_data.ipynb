{
 "cells": [
  {
   "cell_type": "code",
   "execution_count": 1,
   "metadata": {
    "execution": {
     "iopub.execute_input": "2021-01-07T03:43:14.000376Z",
     "iopub.status.busy": "2021-01-07T03:43:13.999938Z",
     "iopub.status.idle": "2021-01-07T03:43:14.263722Z",
     "shell.execute_reply": "2021-01-07T03:43:14.263071Z",
     "shell.execute_reply.started": "2021-01-07T03:43:14.000281Z"
    }
   },
   "outputs": [],
   "source": [
    "from pyspark.sql import SparkSession\n",
    "from pyspark.sql import functions as F\n",
    "from pyspark.sql.types import IntegerType, StringType\n",
    "# from pyspark.ml.stat import Summarizer\n",
    "from pyspark.sql.functions import col, avg, regexp_extract\n"
   ]
  },
  {
   "cell_type": "code",
   "execution_count": 2,
   "metadata": {
    "execution": {
     "iopub.execute_input": "2021-01-07T03:43:15.627410Z",
     "iopub.status.busy": "2021-01-07T03:43:15.627086Z",
     "iopub.status.idle": "2021-01-07T03:43:15.756087Z",
     "shell.execute_reply": "2021-01-07T03:43:15.755183Z",
     "shell.execute_reply.started": "2021-01-07T03:43:15.627377Z"
    }
   },
   "outputs": [
    {
     "name": "stdout",
     "output_type": "stream",
     "text": [
      "/usr/local/anaconda3/envs/spark/bin/python\n"
     ]
    }
   ],
   "source": [
    "!which python\n",
    "# !echo $PYSPARK_PYTHON \n",
    "# !echo $PYSPARK_DRIVER_PYTHON"
   ]
  },
  {
   "cell_type": "code",
   "execution_count": 3,
   "metadata": {
    "execution": {
     "iopub.execute_input": "2021-01-07T03:43:17.074757Z",
     "iopub.status.busy": "2021-01-07T03:43:17.074463Z",
     "iopub.status.idle": "2021-01-07T03:43:22.353749Z",
     "shell.execute_reply": "2021-01-07T03:43:22.352946Z",
     "shell.execute_reply.started": "2021-01-07T03:43:17.074727Z"
    }
   },
   "outputs": [
    {
     "name": "stdout",
     "output_type": "stream",
     "text": [
      "Spark Instance: <pyspark.sql.session.SparkSession object at 0x7fe320fe82e0>\n",
      "RDD count: 4\n"
     ]
    }
   ],
   "source": [
    "spark = SparkSession.builder.appName(\"dataload\").getOrCreate()\n",
    "\n",
    "print(f\"Spark Instance: {spark}\")\n",
    "rdd = spark.sparkContext.parallelize([1,2,3,4])\n",
    "print(f\"RDD count: {rdd.count()}\")"
   ]
  },
  {
   "cell_type": "markdown",
   "metadata": {},
   "source": [
    "Loading some data from a Kaggle Dataset (Ramen Ratings)\n",
    "\n",
    "Get it here: https://www.kaggle.com/residentmario/ramen-ratings"
   ]
  },
  {
   "cell_type": "code",
   "execution_count": 5,
   "metadata": {
    "execution": {
     "iopub.execute_input": "2021-01-07T03:43:32.619426Z",
     "iopub.status.busy": "2021-01-07T03:43:32.619159Z",
     "iopub.status.idle": "2021-01-07T03:43:35.286038Z",
     "shell.execute_reply": "2021-01-07T03:43:35.285111Z",
     "shell.execute_reply.started": "2021-01-07T03:43:32.619380Z"
    }
   },
   "outputs": [
    {
     "name": "stdout",
     "output_type": "stream",
     "text": [
      "load a csv:\n"
     ]
    }
   ],
   "source": [
    "\n",
    "print(\"load a csv:\")\n",
    "df = spark.read.csv('./sample_data/ramen-ratings.csv', header=True, inferSchema=True)"
   ]
  },
  {
   "cell_type": "code",
   "execution_count": 6,
   "metadata": {
    "execution": {
     "iopub.execute_input": "2021-01-07T03:43:53.417060Z",
     "iopub.status.busy": "2021-01-07T03:43:53.416717Z",
     "iopub.status.idle": "2021-01-07T03:43:53.430229Z",
     "shell.execute_reply": "2021-01-07T03:43:53.429119Z",
     "shell.execute_reply.started": "2021-01-07T03:43:53.417023Z"
    }
   },
   "outputs": [
    {
     "name": "stdout",
     "output_type": "stream",
     "text": [
      "root\n",
      " |-- Review #: string (nullable = true)\n",
      " |-- Brand: string (nullable = true)\n",
      " |-- Variety: string (nullable = true)\n",
      " |-- Style: string (nullable = true)\n",
      " |-- Country: string (nullable = true)\n",
      " |-- Stars: string (nullable = true)\n",
      " |-- Top Ten: string (nullable = true)\n",
      "\n"
     ]
    }
   ],
   "source": [
    "df.printSchema()"
   ]
  },
  {
   "cell_type": "markdown",
   "metadata": {},
   "source": [
    "Use the Truncate option to see the full column length"
   ]
  },
  {
   "cell_type": "code",
   "execution_count": 7,
   "metadata": {
    "execution": {
     "iopub.execute_input": "2021-01-07T03:43:56.210280Z",
     "iopub.status.busy": "2021-01-07T03:43:56.209941Z",
     "iopub.status.idle": "2021-01-07T03:43:56.489881Z",
     "shell.execute_reply": "2021-01-07T03:43:56.489088Z",
     "shell.execute_reply.started": "2021-01-07T03:43:56.210251Z"
    }
   },
   "outputs": [
    {
     "name": "stdout",
     "output_type": "stream",
     "text": [
      "+--------+--------------+-----------------------------------------------------------+-----+-------+-----+-------+\n",
      "|Review #|Brand         |Variety                                                    |Style|Country|Stars|Top Ten|\n",
      "+--------+--------------+-----------------------------------------------------------+-----+-------+-----+-------+\n",
      "|2580    |New Touch     |T's Restaurant Tantanmen                                   |Cup  |Japan  |3.75 |null   |\n",
      "|2579    |Just Way      |Noodles Spicy Hot Sesame Spicy Hot Sesame Guan-miao Noodles|Pack |Taiwan |1    |null   |\n",
      "|2578    |Nissin        |Cup Noodles Chicken Vegetable                              |Cup  |USA    |2.25 |null   |\n",
      "|2577    |Wei Lih       |GGE Ramen Snack Tomato Flavor                              |Pack |Taiwan |2.75 |null   |\n",
      "|2576    |Ching's Secret|Singapore Curry                                            |Pack |India  |3.75 |null   |\n",
      "+--------+--------------+-----------------------------------------------------------+-----+-------+-----+-------+\n",
      "only showing top 5 rows\n",
      "\n"
     ]
    }
   ],
   "source": [
    "df.show(5, truncate=False)"
   ]
  },
  {
   "cell_type": "code",
   "execution_count": 8,
   "metadata": {
    "execution": {
     "iopub.execute_input": "2021-01-07T03:43:58.885670Z",
     "iopub.status.busy": "2021-01-07T03:43:58.885308Z",
     "iopub.status.idle": "2021-01-07T03:43:59.261968Z",
     "shell.execute_reply": "2021-01-07T03:43:59.261198Z",
     "shell.execute_reply.started": "2021-01-07T03:43:58.885624Z"
    }
   },
   "outputs": [
    {
     "name": "stdout",
     "output_type": "stream",
     "text": [
      "Row count: 2584\n"
     ]
    }
   ],
   "source": [
    "print(f\"Row count: {df.count()}\")"
   ]
  },
  {
   "cell_type": "code",
   "execution_count": 9,
   "metadata": {
    "execution": {
     "iopub.execute_input": "2021-01-07T03:44:01.163174Z",
     "iopub.status.busy": "2021-01-07T03:44:01.162948Z",
     "iopub.status.idle": "2021-01-07T03:44:01.227710Z",
     "shell.execute_reply": "2021-01-07T03:44:01.225535Z",
     "shell.execute_reply.started": "2021-01-07T03:44:01.163152Z"
    }
   },
   "outputs": [
    {
     "name": "stdout",
     "output_type": "stream",
     "text": [
      "Check the df schema after changing the data type\n",
      "root\n",
      " |-- Review #: string (nullable = true)\n",
      " |-- Brand: string (nullable = true)\n",
      " |-- Variety: string (nullable = true)\n",
      " |-- Style: string (nullable = true)\n",
      " |-- Country: string (nullable = true)\n",
      " |-- Stars: integer (nullable = true)\n",
      " |-- Top Ten: string (nullable = true)\n",
      "\n"
     ]
    }
   ],
   "source": [
    "print(\"Check the df schema after changing the data type\")\n",
    "df = df.withColumn('Stars', F.col(\"Stars\").cast(IntegerType()))\n",
    "df.printSchema()"
   ]
  },
  {
   "cell_type": "code",
   "execution_count": 10,
   "metadata": {
    "execution": {
     "iopub.execute_input": "2021-01-07T03:44:02.720615Z",
     "iopub.status.busy": "2021-01-07T03:44:02.720367Z",
     "iopub.status.idle": "2021-01-07T03:44:03.634661Z",
     "shell.execute_reply": "2021-01-07T03:44:03.634023Z",
     "shell.execute_reply.started": "2021-01-07T03:44:02.720591Z"
    }
   },
   "outputs": [
    {
     "data": {
      "text/plain": [
       "DataFrame[summary: string, Review #: string, Brand: string, Variety: string, Style: string, Country: string, Stars: string, Top Ten: string]"
      ]
     },
     "execution_count": 10,
     "metadata": {},
     "output_type": "execute_result"
    }
   ],
   "source": [
    "df.describe()"
   ]
  },
  {
   "cell_type": "code",
   "execution_count": 11,
   "metadata": {
    "execution": {
     "iopub.execute_input": "2021-01-07T03:44:05.814180Z",
     "iopub.status.busy": "2021-01-07T03:44:05.813745Z",
     "iopub.status.idle": "2021-01-07T03:44:06.733184Z",
     "shell.execute_reply": "2021-01-07T03:44:06.732493Z",
     "shell.execute_reply.started": "2021-01-07T03:44:05.814132Z"
    }
   },
   "outputs": [
    {
     "data": {
      "text/plain": [
       "DataFrame[summary: string, Review #: string, Brand: string, Variety: string, Style: string, Country: string, Stars: string, Top Ten: string]"
      ]
     },
     "execution_count": 11,
     "metadata": {},
     "output_type": "execute_result"
    }
   ],
   "source": [
    "df.summary()"
   ]
  },
  {
   "cell_type": "markdown",
   "metadata": {},
   "source": [
    "Let's try to take a look at the data and see how we can do some filtering and summaries."
   ]
  },
  {
   "cell_type": "code",
   "execution_count": 12,
   "metadata": {
    "execution": {
     "iopub.execute_input": "2021-01-07T03:44:08.509733Z",
     "iopub.status.busy": "2021-01-07T03:44:08.509325Z",
     "iopub.status.idle": "2021-01-07T03:44:08.789129Z",
     "shell.execute_reply": "2021-01-07T03:44:08.788287Z",
     "shell.execute_reply.started": "2021-01-07T03:44:08.509684Z"
    }
   },
   "outputs": [
    {
     "name": "stdout",
     "output_type": "stream",
     "text": [
      "The Avg Star Rating across all rows\n",
      "+-----------------+\n",
      "|       avg(Stars)|\n",
      "+-----------------+\n",
      "|3.347303065580132|\n",
      "+-----------------+\n",
      "\n"
     ]
    }
   ],
   "source": [
    "print(\"The Avg Star Rating across all rows\")\n",
    "df.agg(avg(col('Stars'))).show()"
   ]
  },
  {
   "cell_type": "code",
   "execution_count": 14,
   "metadata": {
    "execution": {
     "iopub.execute_input": "2021-01-07T03:44:14.999621Z",
     "iopub.status.busy": "2021-01-07T03:44:14.999289Z",
     "iopub.status.idle": "2021-01-07T03:44:15.527177Z",
     "shell.execute_reply": "2021-01-07T03:44:15.526490Z",
     "shell.execute_reply.started": "2021-01-07T03:44:14.999586Z"
    }
   },
   "outputs": [
    {
     "name": "stdout",
     "output_type": "stream",
     "text": [
      "The Avg Star Rating by Country\n",
      "+-------------+------------------+\n",
      "|      Country|        avg(Stars)|\n",
      "+-------------+------------------+\n",
      "|       Sweden|               3.0|\n",
      "|  Philippines|2.9574468085106385|\n",
      "|    Singapore|3.8623853211009176|\n",
      "|     Malaysia|3.8838709677419354|\n",
      "|         Fiji|              3.75|\n",
      "|      Germany|3.2222222222222223|\n",
      "|     Cambodia|               4.0|\n",
      "|       Taiwan|3.3705357142857144|\n",
      "|         null|              null|\n",
      "|      Finland|               3.0|\n",
      "|        Ghana|               3.0|\n",
      "|      Myanmar|               3.5|\n",
      "|        India|               3.0|\n",
      "|        China| 3.094674556213018|\n",
      "|United States|               3.0|\n",
      "|      Nigeria|               1.0|\n",
      "|   Bangladesh|3.5714285714285716|\n",
      "|     Thailand| 3.068062827225131|\n",
      "|    Hong Kong| 3.562043795620438|\n",
      "|          USA| 3.136222910216718|\n",
      "+-------------+------------------+\n",
      "only showing top 20 rows\n",
      "\n"
     ]
    }
   ],
   "source": [
    "print(\"The Avg Star Rating by Country\")\n",
    "df.groupby('Country').mean().show()"
   ]
  },
  {
   "cell_type": "code",
   "execution_count": 15,
   "metadata": {
    "execution": {
     "iopub.execute_input": "2021-01-07T03:44:17.433873Z",
     "iopub.status.busy": "2021-01-07T03:44:17.433562Z",
     "iopub.status.idle": "2021-01-07T03:44:17.982857Z",
     "shell.execute_reply": "2021-01-07T03:44:17.982144Z",
     "shell.execute_reply.started": "2021-01-07T03:44:17.433833Z"
    }
   },
   "outputs": [
    {
     "name": "stdout",
     "output_type": "stream",
     "text": [
      "The Avg Star Rating by Type\n",
      "+-----+------------------+\n",
      "|Style|        avg(Stars)|\n",
      "+-----+------------------+\n",
      "| Bowl|3.3534303534303533|\n",
      "|  Bar|               5.0|\n",
      "|  Box| 4.166666666666667|\n",
      "| null|               3.0|\n",
      "| Pack| 3.393324607329843|\n",
      "|  Cup|3.1977777777777776|\n",
      "| Tray| 3.240740740740741|\n",
      "|  Can|               3.0|\n",
      "+-----+------------------+\n",
      "\n"
     ]
    }
   ],
   "source": [
    "print(\"The Avg Star Rating by Type\")\n",
    "df.groupby('Style').mean().show()"
   ]
  },
  {
   "cell_type": "code",
   "execution_count": 16,
   "metadata": {
    "execution": {
     "iopub.execute_input": "2021-01-07T03:44:19.304294Z",
     "iopub.status.busy": "2021-01-07T03:44:19.304044Z",
     "iopub.status.idle": "2021-01-07T03:44:19.493558Z",
     "shell.execute_reply": "2021-01-07T03:44:19.492995Z",
     "shell.execute_reply.started": "2021-01-07T03:44:19.304269Z"
    }
   },
   "outputs": [
    {
     "name": "stdout",
     "output_type": "stream",
     "text": [
      "Filter a column using Text\n",
      "+--------+-------------+-----------------------------------------------+-----+---------+-----+--------+\n",
      "|Review #|Brand        |Variety                                        |Style|Country  |Stars|Top Ten |\n",
      "+--------+-------------+-----------------------------------------------+-----+---------+-----+--------+\n",
      "|1964    |MAMA         |Instant Noodles Coconut Milk Flavour           |Pack |Myanmar  |5    |2016 #10|\n",
      "|1947    |Prima Taste  |Singapore Laksa Wholegrain La Mian             |Pack |Singapore|5    |2016 #1 |\n",
      "|1925    |Prima        |Juzz's Mee Creamy Chicken Flavour              |Pack |Singapore|5    |2016 #8 |\n",
      "|1907    |Prima Taste  |Singapore Curry Wholegrain La Mian             |Pack |Singapore|5    |2016 #5 |\n",
      "|1828    |Tseng Noodles|Scallion With Sichuan Pepper  Flavor           |Pack |Taiwan   |5    |2016 #9 |\n",
      "|1689    |Wugudaochang |Tomato Beef Brisket Flavor Purple Potato Noodle|Pack |China    |5    |2016 #7 |\n",
      "+--------+-------------+-----------------------------------------------+-----+---------+-----+--------+\n",
      "\n"
     ]
    }
   ],
   "source": [
    "print(\"Filter a column using Text\")\n",
    "\n",
    "df_2016 = df.where(F.col(\"Top Ten\").rlike(\"2016\"))\n",
    "df_2016.show(100, truncate=False)"
   ]
  },
  {
   "cell_type": "code",
   "execution_count": 17,
   "metadata": {
    "execution": {
     "iopub.execute_input": "2021-01-07T03:44:21.253733Z",
     "iopub.status.busy": "2021-01-07T03:44:21.253453Z",
     "iopub.status.idle": "2021-01-07T03:44:21.410671Z",
     "shell.execute_reply": "2021-01-07T03:44:21.409881Z",
     "shell.execute_reply.started": "2021-01-07T03:44:21.253702Z"
    }
   },
   "outputs": [
    {
     "name": "stdout",
     "output_type": "stream",
     "text": [
      "Filter a column using Text and regex\n",
      "+--------+----------------+----------------------------------------------------------+-----+---------+-----+--------+\n",
      "|Review #|Brand           |Variety                                                   |Style|Country  |Stars|Top Ten |\n",
      "+--------+----------------+----------------------------------------------------------+-----+---------+-----+--------+\n",
      "|1964    |MAMA            |Instant Noodles Coconut Milk Flavour                      |Pack |Myanmar  |5    |2016 #10|\n",
      "|1947    |Prima Taste     |Singapore Laksa Wholegrain La Mian                        |Pack |Singapore|5    |2016 #1 |\n",
      "|1638    |A-Sha Dry Noodle|Veggie Noodle Tomato Noodle With Vine Ripened Tomato Sauce|Pack |Taiwan   |5    |2015 #10|\n",
      "|1500    |MyKuali         |Penang Red Tom Yum Goong Noodle                           |Pack |Malaysia |5    |2015 #1 |\n",
      "|1471    |Mama            |Instant Noodles Shrimp Creamy Tom Yum Flavour Jumbo Pack  |Pack |Thailand |5    |2013 #10|\n",
      "|1302    |Mama            |Instant Noodles Yentafo Tom Yum Mohfai Flavour            |Pack |Thailand |5    |2014 #10|\n",
      "|1087    |MyKuali         |Penang White Curry Noodle                                 |Pack |Malaysia |5    |2014 #1 |\n",
      "|992     |Prima Taste     |Singapore Laksa La Mian                                   |Pack |Singapore|5    |2013 #1 |\n",
      "|608     |Koka            |Spicy Black Pepper                                        |Pack |Singapore|5    |2012 #10|\n",
      "|105     |Indomie         |Special Fried Curly Noodle                                |Pack |Indonesia|5    |2012 #1 |\n",
      "+--------+----------------+----------------------------------------------------------+-----+---------+-----+--------+\n",
      "\n"
     ]
    }
   ],
   "source": [
    "print(\"Filter a column using Text and regex\")\n",
    "\n",
    "df_2016 = df.where(F.col(\"Top Ten\").rlike(\"(#1)\"))\n",
    "df_2016.show(100, truncate=False)"
   ]
  },
  {
   "cell_type": "code",
   "execution_count": 18,
   "metadata": {
    "execution": {
     "iopub.execute_input": "2021-01-07T03:44:22.775802Z",
     "iopub.status.busy": "2021-01-07T03:44:22.775438Z",
     "iopub.status.idle": "2021-01-07T03:44:22.972956Z",
     "shell.execute_reply": "2021-01-07T03:44:22.972258Z",
     "shell.execute_reply.started": "2021-01-07T03:44:22.775770Z"
    }
   },
   "outputs": [
    {
     "name": "stdout",
     "output_type": "stream",
     "text": [
      "filter by multiple conditions\n",
      "+--------+-------+--------------------+-----+---------+-----+--------+\n",
      "|Review #|  Brand|             Variety|Style|  Country|Stars| Top Ten|\n",
      "+--------+-------+--------------------+-----+---------+-----+--------+\n",
      "|    1964|   MAMA|Instant Noodles C...| Pack|  Myanmar|    5|2016 #10|\n",
      "|     105|Indomie|Special Fried Cur...| Pack|Indonesia|    5| 2012 #1|\n",
      "+--------+-------+--------------------+-----+---------+-----+--------+\n",
      "\n"
     ]
    }
   ],
   "source": [
    "print(\"filter by multiple conditions\")\n",
    "# result= df.where(F.col('Top Ten').rlike(\"#1\"))\n",
    "df.filter((F.col('Review #')=='1964') | (F.col('Review #')=='105') ).show()"
   ]
  },
  {
   "cell_type": "code",
   "execution_count": 19,
   "metadata": {
    "execution": {
     "iopub.execute_input": "2021-01-07T03:44:24.965798Z",
     "iopub.status.busy": "2021-01-07T03:44:24.965458Z",
     "iopub.status.idle": "2021-01-07T03:44:25.157375Z",
     "shell.execute_reply": "2021-01-07T03:44:25.156720Z",
     "shell.execute_reply.started": "2021-01-07T03:44:24.965760Z"
    }
   },
   "outputs": [
    {
     "name": "stdout",
     "output_type": "stream",
     "text": [
      "WIP\n",
      "Extract some text from a field\n",
      "+--------+-----+--------------------+-----+-------+-----+--------+\n",
      "|Review #|Brand|             Variety|Style|Country|Stars| Top Ten|\n",
      "+--------+-----+--------------------+-----+-------+-----+--------+\n",
      "|    1964| MAMA|Instant Noodles C...| Pack|Myanmar|    5|2016 #10|\n",
      "+--------+-----+--------------------+-----+-------+-----+--------+\n",
      "\n"
     ]
    }
   ],
   "source": [
    "print(\"WIP\")\n",
    "print(\"Extract some text from a field\")\n",
    "# df_rank = df.\n",
    "\n",
    "\n",
    "# result = df.withColumn('Rank', regexp_extract(col('Top Ten'), '.', 4))\n",
    "result= df.where(F.col('Top Ten').rlike(\"#1\"))\n",
    "result.filter(F.col('Review #')=='1964').show()"
   ]
  },
  {
   "cell_type": "code",
   "execution_count": null,
   "metadata": {},
   "outputs": [],
   "source": []
  }
 ],
 "metadata": {
  "kernelspec": {
   "display_name": "Python 3",
   "language": "python",
   "name": "python3"
  },
  "language_info": {
   "codemirror_mode": {
    "name": "ipython",
    "version": 3
   },
   "file_extension": ".py",
   "mimetype": "text/x-python",
   "name": "python",
   "nbconvert_exporter": "python",
   "pygments_lexer": "ipython3",
   "version": "3.8.6"
  }
 },
 "nbformat": 4,
 "nbformat_minor": 4
}
