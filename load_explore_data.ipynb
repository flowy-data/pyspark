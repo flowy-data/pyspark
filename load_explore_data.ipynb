{
 "cells": [
  {
   "cell_type": "code",
   "execution_count": 59,
   "metadata": {
    "execution": {
     "iopub.execute_input": "2021-01-07T03:16:36.617619Z",
     "iopub.status.busy": "2021-01-07T03:16:36.615567Z",
     "iopub.status.idle": "2021-01-07T03:16:36.635445Z",
     "shell.execute_reply": "2021-01-07T03:16:36.634424Z",
     "shell.execute_reply.started": "2021-01-07T03:16:36.617502Z"
    }
   },
   "outputs": [],
   "source": [
    "from pyspark.sql import SparkSession\n",
    "from pyspark.sql import functions as F\n",
    "from pyspark.sql.types import IntegerType, StringType\n",
    "# from pyspark.ml.stat import Summarizer\n",
    "from pyspark.sql.functions import col, avg, regexp_extract\n"
   ]
  },
  {
   "cell_type": "code",
   "execution_count": 3,
   "metadata": {
    "execution": {
     "iopub.execute_input": "2021-01-07T02:39:44.970660Z",
     "iopub.status.busy": "2021-01-07T02:39:44.970292Z",
     "iopub.status.idle": "2021-01-07T02:39:45.338224Z",
     "shell.execute_reply": "2021-01-07T02:39:45.337404Z",
     "shell.execute_reply.started": "2021-01-07T02:39:44.970603Z"
    }
   },
   "outputs": [
    {
     "name": "stdout",
     "output_type": "stream",
     "text": [
      "/usr/local/anaconda3/envs/spark/bin/python\n",
      "\n",
      "\n"
     ]
    }
   ],
   "source": [
    "!which python\n",
    "!echo $PYSPARK_PYTHON \n",
    "!echo $PYSPARK_DRIVER_PYTHON"
   ]
  },
  {
   "cell_type": "code",
   "execution_count": 4,
   "metadata": {
    "execution": {
     "iopub.execute_input": "2021-01-07T02:39:45.340799Z",
     "iopub.status.busy": "2021-01-07T02:39:45.340525Z",
     "iopub.status.idle": "2021-01-07T02:39:49.545598Z",
     "shell.execute_reply": "2021-01-07T02:39:49.544491Z",
     "shell.execute_reply.started": "2021-01-07T02:39:45.340767Z"
    }
   },
   "outputs": [
    {
     "name": "stdout",
     "output_type": "stream",
     "text": [
      "Spark Instance: <pyspark.sql.session.SparkSession object at 0x7fb6a6c80070>\n",
      "RDD count: 4\n"
     ]
    }
   ],
   "source": [
    "spark = SparkSession.builder.appName(\"dataload\").getOrCreate()\n",
    "\n",
    "print(f\"Spark Instance: {spark}\")\n",
    "rdd = spark.sparkContext.parallelize([1,2,3,4])\n",
    "print(f\"RDD count: {rdd.count()}\")"
   ]
  },
  {
   "cell_type": "code",
   "execution_count": 5,
   "metadata": {
    "execution": {
     "iopub.execute_input": "2021-01-07T02:39:49.547925Z",
     "iopub.status.busy": "2021-01-07T02:39:49.547555Z",
     "iopub.status.idle": "2021-01-07T02:39:52.422093Z",
     "shell.execute_reply": "2021-01-07T02:39:52.421254Z",
     "shell.execute_reply.started": "2021-01-07T02:39:49.547890Z"
    }
   },
   "outputs": [
    {
     "name": "stdout",
     "output_type": "stream",
     "text": [
      "load a csv:\n"
     ]
    }
   ],
   "source": [
    "\n",
    "print(\"load a csv:\")\n",
    "df = spark.read.csv('../sample_data/ramen-ratings.csv', header=True, inferSchema=True)"
   ]
  },
  {
   "cell_type": "code",
   "execution_count": 6,
   "metadata": {
    "execution": {
     "iopub.execute_input": "2021-01-07T02:39:52.423518Z",
     "iopub.status.busy": "2021-01-07T02:39:52.423205Z",
     "iopub.status.idle": "2021-01-07T02:39:52.435025Z",
     "shell.execute_reply": "2021-01-07T02:39:52.433663Z",
     "shell.execute_reply.started": "2021-01-07T02:39:52.423492Z"
    }
   },
   "outputs": [
    {
     "name": "stdout",
     "output_type": "stream",
     "text": [
      "root\n",
      " |-- Review #: string (nullable = true)\n",
      " |-- Brand: string (nullable = true)\n",
      " |-- Variety: string (nullable = true)\n",
      " |-- Style: string (nullable = true)\n",
      " |-- Country: string (nullable = true)\n",
      " |-- Stars: string (nullable = true)\n",
      " |-- Top Ten: string (nullable = true)\n",
      "\n"
     ]
    }
   ],
   "source": [
    "df.printSchema()"
   ]
  },
  {
   "cell_type": "code",
   "execution_count": 46,
   "metadata": {
    "execution": {
     "iopub.execute_input": "2021-01-07T03:07:04.073089Z",
     "iopub.status.busy": "2021-01-07T03:07:04.072725Z",
     "iopub.status.idle": "2021-01-07T03:07:04.185869Z",
     "shell.execute_reply": "2021-01-07T03:07:04.184627Z",
     "shell.execute_reply.started": "2021-01-07T03:07:04.073052Z"
    }
   },
   "outputs": [
    {
     "name": "stdout",
     "output_type": "stream",
     "text": [
      "+--------+--------------+-----------------------------------------------------------+-----+-------+-----+-------+\n",
      "|Review #|Brand         |Variety                                                    |Style|Country|Stars|Top Ten|\n",
      "+--------+--------------+-----------------------------------------------------------+-----+-------+-----+-------+\n",
      "|2580    |New Touch     |T's Restaurant Tantanmen                                   |Cup  |Japan  |3    |null   |\n",
      "|2579    |Just Way      |Noodles Spicy Hot Sesame Spicy Hot Sesame Guan-miao Noodles|Pack |Taiwan |1    |null   |\n",
      "|2578    |Nissin        |Cup Noodles Chicken Vegetable                              |Cup  |USA    |2    |null   |\n",
      "|2577    |Wei Lih       |GGE Ramen Snack Tomato Flavor                              |Pack |Taiwan |2    |null   |\n",
      "|2576    |Ching's Secret|Singapore Curry                                            |Pack |India  |3    |null   |\n",
      "+--------+--------------+-----------------------------------------------------------+-----+-------+-----+-------+\n",
      "only showing top 5 rows\n",
      "\n"
     ]
    }
   ],
   "source": [
    "df.show(5, truncate=False)"
   ]
  },
  {
   "cell_type": "code",
   "execution_count": 8,
   "metadata": {
    "execution": {
     "iopub.execute_input": "2021-01-07T02:39:52.657812Z",
     "iopub.status.busy": "2021-01-07T02:39:52.655264Z",
     "iopub.status.idle": "2021-01-07T02:39:53.048243Z",
     "shell.execute_reply": "2021-01-07T02:39:53.047189Z",
     "shell.execute_reply.started": "2021-01-07T02:39:52.657757Z"
    }
   },
   "outputs": [
    {
     "name": "stdout",
     "output_type": "stream",
     "text": [
      "Row count: 2584\n"
     ]
    }
   ],
   "source": [
    "print(f\"Row count: {df.count()}\")"
   ]
  },
  {
   "cell_type": "code",
   "execution_count": 10,
   "metadata": {
    "execution": {
     "iopub.execute_input": "2021-01-07T02:40:11.212434Z",
     "iopub.status.busy": "2021-01-07T02:40:11.212085Z",
     "iopub.status.idle": "2021-01-07T02:40:11.237120Z",
     "shell.execute_reply": "2021-01-07T02:40:11.235904Z",
     "shell.execute_reply.started": "2021-01-07T02:40:11.212395Z"
    }
   },
   "outputs": [
    {
     "name": "stdout",
     "output_type": "stream",
     "text": [
      "Check the df schema after changing the data type\n",
      "root\n",
      " |-- Review #: string (nullable = true)\n",
      " |-- Brand: string (nullable = true)\n",
      " |-- Variety: string (nullable = true)\n",
      " |-- Style: string (nullable = true)\n",
      " |-- Country: string (nullable = true)\n",
      " |-- Stars: integer (nullable = true)\n",
      " |-- Top Ten: string (nullable = true)\n",
      "\n"
     ]
    }
   ],
   "source": [
    "print(\"Check the df schema after changing the data type\")\n",
    "df = df.withColumn('Stars', F.col(\"Stars\").cast(IntegerType()))\n",
    "df.printSchema()"
   ]
  },
  {
   "cell_type": "code",
   "execution_count": 11,
   "metadata": {
    "execution": {
     "iopub.execute_input": "2021-01-07T02:48:04.240752Z",
     "iopub.status.busy": "2021-01-07T02:48:04.239920Z",
     "iopub.status.idle": "2021-01-07T02:48:05.710693Z",
     "shell.execute_reply": "2021-01-07T02:48:05.709504Z",
     "shell.execute_reply.started": "2021-01-07T02:48:04.240668Z"
    }
   },
   "outputs": [
    {
     "data": {
      "text/plain": [
       "DataFrame[summary: string, Review #: string, Brand: string, Variety: string, Style: string, Country: string, Stars: string, Top Ten: string]"
      ]
     },
     "execution_count": 11,
     "metadata": {},
     "output_type": "execute_result"
    }
   ],
   "source": [
    "df.describe()"
   ]
  },
  {
   "cell_type": "code",
   "execution_count": 12,
   "metadata": {
    "execution": {
     "iopub.execute_input": "2021-01-07T02:48:18.711680Z",
     "iopub.status.busy": "2021-01-07T02:48:18.711338Z",
     "iopub.status.idle": "2021-01-07T02:48:19.787855Z",
     "shell.execute_reply": "2021-01-07T02:48:19.787083Z",
     "shell.execute_reply.started": "2021-01-07T02:48:18.711643Z"
    }
   },
   "outputs": [
    {
     "data": {
      "text/plain": [
       "DataFrame[summary: string, Review #: string, Brand: string, Variety: string, Style: string, Country: string, Stars: string, Top Ten: string]"
      ]
     },
     "execution_count": 12,
     "metadata": {},
     "output_type": "execute_result"
    }
   ],
   "source": [
    "df.summary()"
   ]
  },
  {
   "cell_type": "code",
   "execution_count": 29,
   "metadata": {
    "execution": {
     "iopub.execute_input": "2021-01-07T02:56:54.139073Z",
     "iopub.status.busy": "2021-01-07T02:56:54.138856Z",
     "iopub.status.idle": "2021-01-07T02:56:54.375549Z",
     "shell.execute_reply": "2021-01-07T02:56:54.374667Z",
     "shell.execute_reply.started": "2021-01-07T02:56:54.139049Z"
    }
   },
   "outputs": [
    {
     "name": "stdout",
     "output_type": "stream",
     "text": [
      "+-----------------+\n",
      "|       avg(Stars)|\n",
      "+-----------------+\n",
      "|3.347303065580132|\n",
      "+-----------------+\n",
      "\n"
     ]
    }
   ],
   "source": [
    "print(\"The Avg Star Rating across all rows\")\n",
    "df.agg(avg(col('Stars'))).show()"
   ]
  },
  {
   "cell_type": "code",
   "execution_count": 30,
   "metadata": {
    "execution": {
     "iopub.execute_input": "2021-01-07T02:57:36.123269Z",
     "iopub.status.busy": "2021-01-07T02:57:36.122739Z",
     "iopub.status.idle": "2021-01-07T02:57:36.727386Z",
     "shell.execute_reply": "2021-01-07T02:57:36.726529Z",
     "shell.execute_reply.started": "2021-01-07T02:57:36.123202Z"
    }
   },
   "outputs": [
    {
     "name": "stdout",
     "output_type": "stream",
     "text": [
      "The Avg Star Rating by Country\n",
      "+-------------+------------------+\n",
      "|      Country|        avg(Stars)|\n",
      "+-------------+------------------+\n",
      "|       Sweden|               3.0|\n",
      "|  Philippines|2.9574468085106385|\n",
      "|    Singapore|3.8623853211009176|\n",
      "|     Malaysia|3.8838709677419354|\n",
      "|         Fiji|              3.75|\n",
      "|      Germany|3.2222222222222223|\n",
      "|     Cambodia|               4.0|\n",
      "|       Taiwan|3.3705357142857144|\n",
      "|         null|              null|\n",
      "|      Finland|               3.0|\n",
      "|        Ghana|               3.0|\n",
      "|      Myanmar|               3.5|\n",
      "|        India|               3.0|\n",
      "|        China| 3.094674556213018|\n",
      "|United States|               3.0|\n",
      "|      Nigeria|               1.0|\n",
      "|   Bangladesh|3.5714285714285716|\n",
      "|     Thailand| 3.068062827225131|\n",
      "|    Hong Kong| 3.562043795620438|\n",
      "|          USA| 3.136222910216718|\n",
      "+-------------+------------------+\n",
      "only showing top 20 rows\n",
      "\n"
     ]
    }
   ],
   "source": [
    "print(\"The Avg Star Rating by Country\")\n",
    "df.groupby('Country').mean().show()"
   ]
  },
  {
   "cell_type": "code",
   "execution_count": 32,
   "metadata": {
    "execution": {
     "iopub.execute_input": "2021-01-07T02:59:25.790011Z",
     "iopub.status.busy": "2021-01-07T02:59:25.789746Z",
     "iopub.status.idle": "2021-01-07T02:59:26.252313Z",
     "shell.execute_reply": "2021-01-07T02:59:26.251677Z",
     "shell.execute_reply.started": "2021-01-07T02:59:25.789986Z"
    }
   },
   "outputs": [
    {
     "name": "stdout",
     "output_type": "stream",
     "text": [
      "The Avg Star Rating by Type\n",
      "+-----+------------------+\n",
      "|Style|        avg(Stars)|\n",
      "+-----+------------------+\n",
      "| Bowl|3.3534303534303533|\n",
      "|  Bar|               5.0|\n",
      "|  Box| 4.166666666666667|\n",
      "| null|               3.0|\n",
      "| Pack| 3.393324607329843|\n",
      "|  Cup|3.1977777777777776|\n",
      "| Tray| 3.240740740740741|\n",
      "|  Can|               3.0|\n",
      "+-----+------------------+\n",
      "\n"
     ]
    }
   ],
   "source": [
    "print(\"The Avg Star Rating by Type\")\n",
    "df.groupby('Style').mean().show()"
   ]
  },
  {
   "cell_type": "code",
   "execution_count": 99,
   "metadata": {
    "execution": {
     "iopub.execute_input": "2021-01-07T03:37:37.293172Z",
     "iopub.status.busy": "2021-01-07T03:37:37.292859Z",
     "iopub.status.idle": "2021-01-07T03:37:37.401947Z",
     "shell.execute_reply": "2021-01-07T03:37:37.400109Z",
     "shell.execute_reply.started": "2021-01-07T03:37:37.293134Z"
    }
   },
   "outputs": [
    {
     "name": "stdout",
     "output_type": "stream",
     "text": [
      "Filter a column using Text\n",
      "+--------+-------------+-----------------------------------------------+-----+---------+-----+--------+\n",
      "|Review #|Brand        |Variety                                        |Style|Country  |Stars|Top Ten |\n",
      "+--------+-------------+-----------------------------------------------+-----+---------+-----+--------+\n",
      "|1964    |MAMA         |Instant Noodles Coconut Milk Flavour           |Pack |Myanmar  |5    |2016 #10|\n",
      "|1947    |Prima Taste  |Singapore Laksa Wholegrain La Mian             |Pack |Singapore|5    |2016 #1 |\n",
      "|1925    |Prima        |Juzz's Mee Creamy Chicken Flavour              |Pack |Singapore|5    |2016 #8 |\n",
      "|1907    |Prima Taste  |Singapore Curry Wholegrain La Mian             |Pack |Singapore|5    |2016 #5 |\n",
      "|1828    |Tseng Noodles|Scallion With Sichuan Pepper  Flavor           |Pack |Taiwan   |5    |2016 #9 |\n",
      "|1689    |Wugudaochang |Tomato Beef Brisket Flavor Purple Potato Noodle|Pack |China    |5    |2016 #7 |\n",
      "+--------+-------------+-----------------------------------------------+-----+---------+-----+--------+\n",
      "\n"
     ]
    }
   ],
   "source": [
    "print(\"Filter a column using Text\")\n",
    "\n",
    "df_2016 = df.where(F.col(\"Top Ten\").rlike(\"2016\"))\n",
    "df_2016.show(100, truncate=False)"
   ]
  },
  {
   "cell_type": "code",
   "execution_count": 58,
   "metadata": {
    "execution": {
     "iopub.execute_input": "2021-01-07T03:11:28.016555Z",
     "iopub.status.busy": "2021-01-07T03:11:28.016212Z",
     "iopub.status.idle": "2021-01-07T03:11:28.143247Z",
     "shell.execute_reply": "2021-01-07T03:11:28.142388Z",
     "shell.execute_reply.started": "2021-01-07T03:11:28.016518Z"
    }
   },
   "outputs": [
    {
     "name": "stdout",
     "output_type": "stream",
     "text": [
      "Filter a column using Text and regex\n",
      "+--------+----------------+----------------------------------------------------------+-----+---------+-----+--------+\n",
      "|Review #|Brand           |Variety                                                   |Style|Country  |Stars|Top Ten |\n",
      "+--------+----------------+----------------------------------------------------------+-----+---------+-----+--------+\n",
      "|1964    |MAMA            |Instant Noodles Coconut Milk Flavour                      |Pack |Myanmar  |5    |2016 #10|\n",
      "|1947    |Prima Taste     |Singapore Laksa Wholegrain La Mian                        |Pack |Singapore|5    |2016 #1 |\n",
      "|1638    |A-Sha Dry Noodle|Veggie Noodle Tomato Noodle With Vine Ripened Tomato Sauce|Pack |Taiwan   |5    |2015 #10|\n",
      "|1500    |MyKuali         |Penang Red Tom Yum Goong Noodle                           |Pack |Malaysia |5    |2015 #1 |\n",
      "|1471    |Mama            |Instant Noodles Shrimp Creamy Tom Yum Flavour Jumbo Pack  |Pack |Thailand |5    |2013 #10|\n",
      "|1302    |Mama            |Instant Noodles Yentafo Tom Yum Mohfai Flavour            |Pack |Thailand |5    |2014 #10|\n",
      "|1087    |MyKuali         |Penang White Curry Noodle                                 |Pack |Malaysia |5    |2014 #1 |\n",
      "|992     |Prima Taste     |Singapore Laksa La Mian                                   |Pack |Singapore|5    |2013 #1 |\n",
      "|608     |Koka            |Spicy Black Pepper                                        |Pack |Singapore|5    |2012 #10|\n",
      "|105     |Indomie         |Special Fried Curly Noodle                                |Pack |Indonesia|5    |2012 #1 |\n",
      "+--------+----------------+----------------------------------------------------------+-----+---------+-----+--------+\n",
      "\n"
     ]
    }
   ],
   "source": [
    "print(\"Filter a column using Text and regex\")\n",
    "\n",
    "df_2016 = df.where(F.col(\"Top Ten\").rlike(\"(#1)\"))\n",
    "df_2016.show(100, truncate=False)"
   ]
  },
  {
   "cell_type": "code",
   "execution_count": 98,
   "metadata": {
    "execution": {
     "iopub.execute_input": "2021-01-07T03:37:16.062656Z",
     "iopub.status.busy": "2021-01-07T03:37:16.062310Z",
     "iopub.status.idle": "2021-01-07T03:37:16.195555Z",
     "shell.execute_reply": "2021-01-07T03:37:16.194531Z",
     "shell.execute_reply.started": "2021-01-07T03:37:16.062620Z"
    }
   },
   "outputs": [
    {
     "name": "stdout",
     "output_type": "stream",
     "text": [
      "filter by multiple conditions\n",
      "+--------+-------+--------------------+-----+---------+-----+--------+\n",
      "|Review #|  Brand|             Variety|Style|  Country|Stars| Top Ten|\n",
      "+--------+-------+--------------------+-----+---------+-----+--------+\n",
      "|    1964|   MAMA|Instant Noodles C...| Pack|  Myanmar|    5|2016 #10|\n",
      "|     105|Indomie|Special Fried Cur...| Pack|Indonesia|    5| 2012 #1|\n",
      "+--------+-------+--------------------+-----+---------+-----+--------+\n",
      "\n"
     ]
    }
   ],
   "source": [
    "print(\"filter by multiple conditions\")\n",
    "# result= df.where(F.col('Top Ten').rlike(\"#1\"))\n",
    "df.filter((F.col('Review #')=='1964') | (F.col('Review #')=='105') ).show()"
   ]
  },
  {
   "cell_type": "code",
   "execution_count": 100,
   "metadata": {
    "execution": {
     "iopub.execute_input": "2021-01-07T03:37:52.086418Z",
     "iopub.status.busy": "2021-01-07T03:37:52.086074Z",
     "iopub.status.idle": "2021-01-07T03:37:52.249525Z",
     "shell.execute_reply": "2021-01-07T03:37:52.248692Z",
     "shell.execute_reply.started": "2021-01-07T03:37:52.086386Z"
    }
   },
   "outputs": [
    {
     "name": "stdout",
     "output_type": "stream",
     "text": [
      "WIP\n",
      "Extract some text from a field\n",
      "+--------+-----+--------------------+-----+-------+-----+--------+\n",
      "|Review #|Brand|             Variety|Style|Country|Stars| Top Ten|\n",
      "+--------+-----+--------------------+-----+-------+-----+--------+\n",
      "|    1964| MAMA|Instant Noodles C...| Pack|Myanmar|    5|2016 #10|\n",
      "+--------+-----+--------------------+-----+-------+-----+--------+\n",
      "\n"
     ]
    }
   ],
   "source": [
    "print(\"WIP\")\n",
    "print(\"Extract some text from a field\")\n",
    "# df_rank = df.\n",
    "\n",
    "\n",
    "# result = df.withColumn('Rank', regexp_extract(col('Top Ten'), '.', 4))\n",
    "result= df.where(F.col('Top Ten').rlike(\"#1\"))\n",
    "result.filter(F.col('Review #')=='1964').show()"
   ]
  },
  {
   "cell_type": "code",
   "execution_count": null,
   "metadata": {},
   "outputs": [],
   "source": []
  }
 ],
 "metadata": {
  "kernelspec": {
   "display_name": "Python 3",
   "language": "python",
   "name": "python3"
  },
  "language_info": {
   "codemirror_mode": {
    "name": "ipython",
    "version": 3
   },
   "file_extension": ".py",
   "mimetype": "text/x-python",
   "name": "python",
   "nbconvert_exporter": "python",
   "pygments_lexer": "ipython3",
   "version": "3.8.6"
  }
 },
 "nbformat": 4,
 "nbformat_minor": 4
}
